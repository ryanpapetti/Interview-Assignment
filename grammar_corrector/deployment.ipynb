{
 "cells": [
  {
   "cell_type": "code",
   "execution_count": 1,
   "id": "0dc60c00",
   "metadata": {},
   "outputs": [],
   "source": [
    "import sagemaker\n",
    "import boto3\n",
    "boto_sess = boto3.Session(region_name='eu-west-3')"
   ]
  },
  {
   "cell_type": "code",
   "execution_count": 2,
   "id": "5b569991",
   "metadata": {},
   "outputs": [],
   "source": [
    "iam_client = boto_sess.client('iam')\n",
    "role = iam_client.get_role(RoleName='fbf-interview-project-role')['Role']['Arn']\n",
    "sess = sagemaker.Session(boto_session=boto_sess)"
   ]
  },
  {
   "cell_type": "code",
   "execution_count": 10,
   "id": "141220f2",
   "metadata": {},
   "outputs": [
    {
     "data": {
      "text/plain": [
       "['__class__',\n",
       " '__delattr__',\n",
       " '__dict__',\n",
       " '__dir__',\n",
       " '__doc__',\n",
       " '__eq__',\n",
       " '__format__',\n",
       " '__ge__',\n",
       " '__getattribute__',\n",
       " '__gt__',\n",
       " '__hash__',\n",
       " '__init__',\n",
       " '__init_subclass__',\n",
       " '__le__',\n",
       " '__lt__',\n",
       " '__module__',\n",
       " '__ne__',\n",
       " '__new__',\n",
       " '__reduce__',\n",
       " '__reduce_ex__',\n",
       " '__repr__',\n",
       " '__setattr__',\n",
       " '__sizeof__',\n",
       " '__str__',\n",
       " '__subclasshook__',\n",
       " '__weakref__',\n",
       " '_check_job_status',\n",
       " '_create_model_request',\n",
       " '_create_s3_bucket_if_it_does_not_exist',\n",
       " '_default_bucket',\n",
       " '_default_bucket_name_override',\n",
       " '_get_process_request',\n",
       " '_get_train_request',\n",
       " '_get_transform_request',\n",
       " '_get_tuning_request',\n",
       " '_get_update_training_job_request',\n",
       " '_initialize',\n",
       " '_intercept_create_request',\n",
       " '_map_training_config',\n",
       " '_map_tuning_config',\n",
       " '_map_tuning_objective',\n",
       " '_region_name',\n",
       " 'account_id',\n",
       " 'auto_ml',\n",
       " 'boto_region_name',\n",
       " 'boto_session',\n",
       " 'compile_model',\n",
       " 'config',\n",
       " 'create_endpoint',\n",
       " 'create_endpoint_config',\n",
       " 'create_endpoint_config_from_existing',\n",
       " 'create_feature_group',\n",
       " 'create_model',\n",
       " 'create_model_from_job',\n",
       " 'create_model_package_from_algorithm',\n",
       " 'create_model_package_from_containers',\n",
       " 'create_monitoring_schedule',\n",
       " 'create_tuning_job',\n",
       " 'default_bucket',\n",
       " 'delete_endpoint',\n",
       " 'delete_endpoint_config',\n",
       " 'delete_feature_group',\n",
       " 'delete_model',\n",
       " 'delete_monitoring_schedule',\n",
       " 'describe_auto_ml_job',\n",
       " 'describe_feature_group',\n",
       " 'describe_model',\n",
       " 'describe_monitoring_schedule',\n",
       " 'describe_processing_job',\n",
       " 'describe_training_job',\n",
       " 'describe_transform_job',\n",
       " 'describe_tuning_job',\n",
       " 'download_athena_query_result',\n",
       " 'download_data',\n",
       " 'endpoint_from_job',\n",
       " 'endpoint_from_model_data',\n",
       " 'endpoint_from_production_variants',\n",
       " 'expand_role',\n",
       " 'get_caller_identity_arn',\n",
       " 'get_query_execution',\n",
       " 'lambda_client',\n",
       " 'list_candidates',\n",
       " 'list_monitoring_executions',\n",
       " 'list_monitoring_schedules',\n",
       " 'list_s3_files',\n",
       " 'list_tags',\n",
       " 'local_mode',\n",
       " 'logs_for_auto_ml_job',\n",
       " 'logs_for_job',\n",
       " 'logs_for_processing_job',\n",
       " 'logs_for_transform_job',\n",
       " 'package_model_for_edge',\n",
       " 'process',\n",
       " 'put_record',\n",
       " 'read_s3_file',\n",
       " 's3_client',\n",
       " 's3_resource',\n",
       " 'sagemaker_client',\n",
       " 'sagemaker_featurestore_runtime_client',\n",
       " 'sagemaker_runtime_client',\n",
       " 'settings',\n",
       " 'start_monitoring_schedule',\n",
       " 'start_query_execution',\n",
       " 'stop_monitoring_schedule',\n",
       " 'stop_processing_job',\n",
       " 'stop_training_job',\n",
       " 'stop_transform_job',\n",
       " 'stop_tuning_job',\n",
       " 'train',\n",
       " 'transform',\n",
       " 'tune',\n",
       " 'update_endpoint',\n",
       " 'update_monitoring_schedule',\n",
       " 'update_training_job',\n",
       " 'upload_data',\n",
       " 'upload_string_as_file_body',\n",
       " 'wait_for_athena_query',\n",
       " 'wait_for_auto_ml_job',\n",
       " 'wait_for_compilation_job',\n",
       " 'wait_for_edge_packaging_job',\n",
       " 'wait_for_endpoint',\n",
       " 'wait_for_job',\n",
       " 'wait_for_model_package',\n",
       " 'wait_for_processing_job',\n",
       " 'wait_for_transform_job',\n",
       " 'wait_for_tuning_job',\n",
       " 'was_processing_job_successful']"
      ]
     },
     "execution_count": 10,
     "metadata": {},
     "output_type": "execute_result"
    }
   ],
   "source": [
    "sess.boto_region_name\n",
    "dir(sess)"
   ]
  },
  {
   "cell_type": "code",
   "execution_count": 4,
   "id": "dc3b1eba",
   "metadata": {},
   "outputs": [],
   "source": [
    "from sagemaker.huggingface.model import HuggingFaceModel\n"
   ]
  },
  {
   "cell_type": "code",
   "execution_count": 11,
   "id": "ac056995",
   "metadata": {},
   "outputs": [],
   "source": [
    "# create Hugging Face Model Class\n",
    "huggingface_model = HuggingFaceModel(\n",
    "   model_data=\"s3://fbf-interview-project/model_dir/model.tar.gz\",  # path to your trained SageMaker model\n",
    "   role=role,                                            # IAM role with permissions to create an endpoint\n",
    "   transformers_version=\"4.17\",                           # Transformers version used\n",
    "   pytorch_version=\"1.10\",                                # PyTorch version used \n",
    "   py_version='py38',\n",
    "   sagemaker_session = sess                                    # Python version used\n",
    ")"
   ]
  },
  {
   "cell_type": "code",
   "execution_count": 13,
   "id": "bc1baa55",
   "metadata": {},
   "outputs": [
    {
     "name": "stdout",
     "output_type": "stream",
     "text": [
      "----------------------------!"
     ]
    }
   ],
   "source": [
    "# deploy model to SageMaker Inference\n",
    "predictor = huggingface_model.deploy(\n",
    "   initial_instance_count=1,\n",
    "   instance_type=\"ml.t2.medium\"\n",
    ")"
   ]
  },
  {
   "cell_type": "code",
   "execution_count": 14,
   "id": "8f83f8b9",
   "metadata": {},
   "outputs": [
    {
     "data": {
      "text/plain": [
       "[{'generated_text': 'I went to the store yesterday and got apples.'}]"
      ]
     },
     "execution_count": 14,
     "metadata": {},
     "output_type": "execute_result"
    }
   ],
   "source": [
    "# example request: you always need to define \"inputs\"\n",
    "data = {\n",
    "   \"inputs\": \"gec: I goes to the store yesterday and got apples\"\n",
    "}\n",
    "\n",
    "# request\n",
    "predictor.predict(data)"
   ]
  },
  {
   "cell_type": "code",
   "execution_count": null,
   "id": "41f1c2cf",
   "metadata": {},
   "outputs": [],
   "source": []
  },
  {
   "cell_type": "code",
   "execution_count": null,
   "id": "10bf74e8",
   "metadata": {},
   "outputs": [],
   "source": []
  },
  {
   "cell_type": "code",
   "execution_count": null,
   "id": "0a90ad87",
   "metadata": {},
   "outputs": [],
   "source": []
  }
 ],
 "metadata": {
  "interpreter": {
   "hash": "2d44f63f50595c1a7848f1825bbe5436c15701db73a70b266767f64a3aa574a9"
  },
  "kernelspec": {
   "display_name": "Python 3.9.7 ('venv': venv)",
   "language": "python",
   "name": "python3"
  },
  "language_info": {
   "codemirror_mode": {
    "name": "ipython",
    "version": 3
   },
   "file_extension": ".py",
   "mimetype": "text/x-python",
   "name": "python",
   "nbconvert_exporter": "python",
   "pygments_lexer": "ipython3",
   "version": "3.9.7"
  }
 },
 "nbformat": 4,
 "nbformat_minor": 5
}
